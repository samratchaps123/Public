{
 "cells": [
  {
   "cell_type": "markdown",
   "id": "08045018",
   "metadata": {},
   "source": [
    "<h1><center>LUBRICATION OIL MODEL PREDICTION"
   ]
  },
  {
   "cell_type": "markdown",
   "id": "799b27b1",
   "metadata": {},
   "source": [
    "<h3>1. Predictive Modeling with Linear Regression  </h3>"
   ]
  },
  {
   "cell_type": "markdown",
   "id": "b67cac0e",
   "metadata": {},
   "source": [
    "<h4>1.1. With Reduced Feature  </h4>"
   ]
  },
  {
   "cell_type": "code",
   "execution_count": 41,
   "id": "68623f2f",
   "metadata": {},
   "outputs": [],
   "source": [
    "# Import necessary libraries\n",
    "import matplotlib.pyplot as plt\n",
    "import numpy as np\n",
    "import pandas as pd\n",
    "from sklearn.model_selection import GridSearchCV\n",
    "from sklearn.linear_model import LinearRegression\n",
    "from sklearn.metrics import mean_squared_error, r2_score\n",
    "from sklearn.pipeline import Pipeline"
   ]
  },
  {
   "cell_type": "code",
   "execution_count": 42,
   "id": "6573fc78",
   "metadata": {},
   "outputs": [],
   "source": [
    "# Load pre-split reduced datasets\n",
    "train_features = pd.read_csv('data/train_features_reduced.csv')\n",
    "train_labels = pd.read_csv('data/train_labels.csv')\n",
    "val_features = pd.read_csv('data/val_features_reduced.csv')  \n",
    "val_labels = pd.read_csv('data/val_labels.csv')\n",
    "test_features = pd.read_csv('data/test_features_reduced.csv')\n",
    "test_labels = pd.read_csv('data/test_labels.csv')"
   ]
  },
  {
   "cell_type": "code",
   "execution_count": 43,
   "id": "a9d34c6a",
   "metadata": {},
   "outputs": [],
   "source": [
    "# Define the model\n",
    "model = LinearRegression()\n",
    "\n",
    "# Define the parameter grid for hyperparameter tuning\n",
    "param_grid = {\n",
    "    'fit_intercept': [True, False]\n",
    "}\n",
    "\n",
    "# Grid Search with cross-validation (cv=5)\n",
    "grid_search = GridSearchCV(model, param_grid, cv=5, scoring='neg_mean_squared_error')"
   ]
  },
  {
   "cell_type": "code",
   "execution_count": 44,
   "id": "693e3d42",
   "metadata": {},
   "outputs": [],
   "source": [
    "# Fit the model on the training data\n",
    "grid_search.fit(train_features, train_labels)\n",
    "\n",
    "# Select the best model based on grid search results\n",
    "best_model = grid_search.best_estimator_\n",
    "\n",
    "# Make predictions on the validation set for evaluation\n",
    "val_predictions = best_model.predict(val_features)"
   ]
  },
  {
   "cell_type": "code",
   "execution_count": 45,
   "id": "c46bfc99",
   "metadata": {},
   "outputs": [],
   "source": [
    "# Evaluate model performance on validation set\n",
    "val_mse = mean_squared_error(val_labels, val_predictions)\n",
    "val_r2 = r2_score(val_labels, val_predictions)\n",
    "\n",
    "# Make final predictions on the test set\n",
    "test_predictions = best_model.predict(test_features)\n",
    "\n",
    "# Evaluate model performance on the test set\n",
    "test_mse = mean_squared_error(test_labels, test_predictions)\n",
    "test_r2 = r2_score(test_labels, test_predictions)"
   ]
  },
  {
   "cell_type": "code",
   "execution_count": 46,
   "id": "bb6c5659",
   "metadata": {
    "scrolled": true
   },
   "outputs": [
    {
     "name": "stdout",
     "output_type": "stream",
     "text": [
      "Best Parameters: {'fit_intercept': True}\n",
      "Validation Mean Squared Error: 0.0046\n",
      "Validation R^2 Score: 0.9997\n",
      "Test Mean Squared Error: 0.0047\n",
      "Test R^2 Score: 0.9997\n"
     ]
    }
   ],
   "source": [
    "# Output results\n",
    "print(f'Best Parameters: {grid_search.best_params_}')\n",
    "print(f'Validation Mean Squared Error: {val_mse:.4f}')\n",
    "print(f'Validation R^2 Score: {val_r2:.4f}')\n",
    "print(f'Test Mean Squared Error: {test_mse:.4f}')\n",
    "print(f'Test R^2 Score: {test_r2:.4f}')"
   ]
  },
  {
   "cell_type": "markdown",
   "id": "058fa0ea",
   "metadata": {},
   "source": [
    "<h4>1.2. With Original Feature  </h4>"
   ]
  },
  {
   "cell_type": "code",
   "execution_count": 47,
   "id": "9a2f5af7",
   "metadata": {},
   "outputs": [],
   "source": [
    "# Load pre-split reduced datasets\n",
    "train_features = pd.read_csv('data/train_features_original.csv')\n",
    "train_labels = pd.read_csv('data/train_labels.csv')\n",
    "val_features = pd.read_csv('data/val_features_original.csv')  \n",
    "val_labels = pd.read_csv('data/val_labels.csv')\n",
    "test_features = pd.read_csv('data/test_features_original.csv')\n",
    "test_labels = pd.read_csv('data/test_labels.csv')"
   ]
  },
  {
   "cell_type": "code",
   "execution_count": 48,
   "id": "9cb397d2",
   "metadata": {},
   "outputs": [],
   "source": [
    "# Define the model\n",
    "model = LinearRegression()\n",
    "\n",
    "# Define the parameter grid for hyperparameter tuning\n",
    "param_grid = {\n",
    "    'fit_intercept': [True, False]\n",
    "}\n",
    "\n",
    "# Grid Search with cross-validation (cv=5)\n",
    "grid_search = GridSearchCV(model, param_grid, cv=5, scoring='neg_mean_squared_error')"
   ]
  },
  {
   "cell_type": "code",
   "execution_count": 49,
   "id": "43a41e3e",
   "metadata": {},
   "outputs": [],
   "source": [
    "# Fit the model on the training data\n",
    "grid_search.fit(train_features, train_labels)\n",
    "\n",
    "# Select the best model based on grid search results\n",
    "best_model = grid_search.best_estimator_\n",
    "\n",
    "# Make predictions on the validation set for evaluation\n",
    "val_predictions = best_model.predict(val_features)"
   ]
  },
  {
   "cell_type": "code",
   "execution_count": 50,
   "id": "84567624",
   "metadata": {},
   "outputs": [],
   "source": [
    "# Evaluate model performance on validation set\n",
    "val_mse = mean_squared_error(val_labels, val_predictions)\n",
    "val_r2 = r2_score(val_labels, val_predictions)\n",
    "\n",
    "# Make final predictions on the test set\n",
    "test_predictions = best_model.predict(test_features)\n",
    "\n",
    "# Evaluate model performance on the test set\n",
    "test_mse = mean_squared_error(test_labels, test_predictions)\n",
    "test_r2 = r2_score(test_labels, test_predictions)"
   ]
  },
  {
   "cell_type": "code",
   "execution_count": 51,
   "id": "46e51d77",
   "metadata": {
    "scrolled": false
   },
   "outputs": [
    {
     "name": "stdout",
     "output_type": "stream",
     "text": [
      "Best Parameters: {'fit_intercept': True}\n",
      "Validation Mean Squared Error: 0.0000\n",
      "Validation R^2 Score: 1.0000\n",
      "Test Mean Squared Error: 0.0001\n",
      "Test R^2 Score: 1.0000\n"
     ]
    }
   ],
   "source": [
    "# Output results\n",
    "print(f'Best Parameters: {grid_search.best_params_}')\n",
    "print(f'Validation Mean Squared Error: {val_mse:.4f}')\n",
    "print(f'Validation R^2 Score: {val_r2:.4f}')\n",
    "print(f'Test Mean Squared Error: {test_mse:.4f}')\n",
    "print(f'Test R^2 Score: {test_r2:.4f}')"
   ]
  },
  {
   "cell_type": "code",
   "execution_count": null,
   "id": "0477fb9b",
   "metadata": {},
   "outputs": [],
   "source": []
  }
 ],
 "metadata": {
  "kernelspec": {
   "display_name": "Python 3 (ipykernel)",
   "language": "python",
   "name": "python3"
  },
  "language_info": {
   "codemirror_mode": {
    "name": "ipython",
    "version": 3
   },
   "file_extension": ".py",
   "mimetype": "text/x-python",
   "name": "python",
   "nbconvert_exporter": "python",
   "pygments_lexer": "ipython3",
   "version": "3.10.9"
  }
 },
 "nbformat": 4,
 "nbformat_minor": 5
}
